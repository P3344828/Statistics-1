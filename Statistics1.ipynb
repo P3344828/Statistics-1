{
  "nbformat": 4,
  "nbformat_minor": 0,
  "metadata": {
    "colab": {
      "provenance": []
    },
    "kernelspec": {
      "name": "python3",
      "display_name": "Python 3"
    },
    "language_info": {
      "name": "python"
    }
  },
  "cells": [
    {
      "cell_type": "markdown",
      "source": [
        "# Assignment Code: DA-AG-006\n",
        "# Statistics Advanced - 1| Assignment\n",
        "1. What is a random variable in probability theory?\n",
        "- A random variable is a function that assigns a real number to each outcome in a sample space of a random experiment.\n",
        "Let S be a sample space. A random variable X is a function\n",
        "                X ∶ S → R\n",
        "It allows probabilistic analysis of numerical outcomes.\n",
        "\n",
        "2. What are the types of random variables?\n",
        "- Random variables are classified into two types:\n",
        "  - Discrete Random Variable: Takes on countable values (finite or countably infinite).\n",
        "      - Example: Number of heads in 3-coin tosses.\n",
        "  - Continuous Random Variable: Takes on values from an uncountable set, typically intervals of real numbers.\n",
        "      - Example: Time taken to run a race.\n",
        "- Each type has its own probability distribution:\n",
        "    -\tDiscrete: Probability Mass Function (PMF)\n",
        "    - Continuous: Probability Density Function (PDF)\n",
        "3. Explain the difference between discrete and continuous distributions.\n",
        "- Difference between discrete and continuous distributions:\n",
        "     - Discrete Distribution:\n",
        "          - Defined over a countable set of values.\n",
        "          - Probabilities are assigned using a probability Mass Function (PMF).\n",
        "            - Example: Number of students in a class.\n",
        "     - Continuous Distribution:\n",
        "          - Defined over an uncountable set (typically an interval).\n",
        "          - Probabilities are described using a Probability Density Function (PDF).\n",
        "\t        - Example: Height of individuals.\n",
        "- Key Point:\n",
        "\t  - Discrete: P(X=x) > 0 is meaningful.\n",
        "\t  - Continuous: P(X=x) = 0; only intervals have non-zero probability.\n",
        "\n",
        "4. What is a binomial distribution, and how is it used in probability?\n",
        "- A binomial distribution models the number of successes in n independent Bernoulli trials with constant success probability p.\n",
        "- Probability mass function:\n",
        "                          P(X=k) = (n¦k) p^k (1-p)^(n-k)\n",
        "- Used to calculate probabilities of exactly k successes in n trials.\n",
        "  - Example: Number of heads in 10 coin tosses.\n",
        "- It applies when:\n",
        "\t - Trials are independent.\n",
        "\t - Probability of success is constant.\n",
        "\t - Each trial has two outcomes (success/failure).\n",
        "5.  What is the standard normal distribution, and why is it important?\n",
        "- The standard normal distribution is continuous probability distribution / normal distribution with mean μ=0 and standard deviation σ=1.\n",
        "- Its probability density function (PDF) is:\n",
        "                               f(x) =  1/(√2π) e^((-x)^2/2)\n",
        "-Importance:\n",
        " - It serves as a reference for all normal distributions through standardization (using z-scores).\n",
        " - It is widely used in statistical inference, including hypothesis testing and confidence intervals.\n",
        "6.  What is the Central Limit Theorem (CLT), and why is it critical in statistics?\n",
        "- The Central Limit Theorem (CLT) states that the distribution of the sample mean of independent, identically distributed (i.i.d.) random variables with finite mean μ and variance σ^2 approaches a normal distribution as the sample size n increases:\n",
        "                      (X ̅-μ)/(σ/(√n)) → N(0,1)\n",
        "- It is critical in statistics because justifies the use of normal approximations in statistics. Forms the basis for many inferential methods, including confidence intervals and hypothesis tests.\n",
        "7. What is the significance of confidence intervals in statistical analysis?\n",
        "- A confidence interval is an interval estimate, derived from sample data, that likely contains the true value of an unknown population parameter with a specified level of confidence (e.g., 95%).\n",
        "- Significance:\n",
        "  - Quantify uncertainty in estimates.\n",
        "  - Offer an interval estimate rather than a single point.\n",
        "  - Support informed decision-making in hypothesis testing and data interpretation.\n",
        "8. What is the concept of expected value in a probability distribution?\n",
        "- The expected value of a random variable is the theoretical mean of its probability distribution, representing the average outcome over an infinite number of trials.\n",
        " - For a discrete random variable X:\n",
        "                                E[X] = ∑_x x.P(X=x)\n",
        " - For a continuous random variable X:\n",
        "                                E[X] = ∫_(-∞)^∞ x.f(x)dx\n",
        "\n",
        " - It is a fundamental measure of the central tendency in probability theory.\n",
        "\n",
        "\n",
        "\n",
        "\n",
        "  \n",
        "\n"
      ],
      "metadata": {
        "id": "fRP2H88h_Sow"
      }
    },
    {
      "cell_type": "code",
      "source": [
        "# 9. Write a Python program to generate 1000 random numbers from a normal distribution with mean = 50 and standard deviation = 5.\n",
        "# Compute its mean and standard deviation using NumPy, and draw a histogram to visualize the distribution.\n",
        "import numpy as np\n",
        "import matplotlib.pyplot as plt\n",
        "\n",
        "np.random.seed(0)\n",
        "# Generate 1000 random numbers from N\n",
        "data = np.random.normal(loc = 50, scale = 5, size = 1000)\n",
        "# compute mean and Standard deviation\n",
        "mean = np.mean(data)\n",
        "std_dev = np.std(data)\n",
        "\n",
        "print(f\"Sample Mean: {mean:.2f}\")\n",
        "print(f\"Sample Standard Deviation: {std_dev:.2f}\")\n",
        "\n",
        "# plot histogram\n",
        "plt.hist(data, bins = 30, edgecolor = 'black', alpha = 0.7)\n",
        "plt.title('Histogram of Normally Distributed Data')\n",
        "plt.xlabel('Value')\n",
        "plt.ylabel('Frequency')\n",
        "plt.grid(True)\n",
        "plt.show()\n",
        "\n"
      ],
      "metadata": {
        "colab": {
          "base_uri": "https://localhost:8080/",
          "height": 507
        },
        "id": "rg4bCaOiGWzX",
        "outputId": "f41b9c7c-d478-4e6d-ee64-ddceb1fb624b"
      },
      "execution_count": 1,
      "outputs": [
        {
          "output_type": "stream",
          "name": "stdout",
          "text": [
            "Sample Mean: 49.77\n",
            "Sample Standard Deviation: 4.94\n"
          ]
        },
        {
          "output_type": "display_data",
          "data": {
            "text/plain": [
              "<Figure size 640x480 with 1 Axes>"
            ],
            "image/png": "[encoded data removed]"
          },
          "metadata": {}
        }
      ]
    },
    {
      "cell_type": "code",
      "source": [
        "# 10. You are working as a data analyst for a retail company. The company has collected daily sales data for 2 years and wants you to identify the overall sales trend.\n",
        "# daily_sales = [220, 245, 210, 265, 230, 250, 260, 275, 240, 255, 235, 260, 245, 250, 225, 270, 265, 255, 250, 260]\n",
        "# •\tExplain how you would apply the Central Limit Theorem to estimate the average sales with a 95% confidence interval.\n",
        "# •\tWrite the Python code to compute the mean sales and its confidence interval.\n",
        "# Answer: As a data analyst, to estimate the average daily sales and construct a 95% confidence interval (CI) using CLT:\n",
        "# CLT Assumption: The sampling distribution of the sample mean is approximately normal, especially as sample size grows.\n",
        "# Given: A sample of 20 daily sales values from a larger population.\n",
        "# Steps:\n",
        "# Compute sample mean.\n",
        "# Compute sample standard deviation s.\n",
        "# Calculate standard error SE =  s/(√n)\n",
        "# Find t-critical value (since n > 30)\n",
        "# Construct 95% CI: sample mean ± t^* .SE\n",
        "# This gives a range that likely contains the true mean daily sales.\n",
        "import numpy as np\n",
        "import scipy.stats as stats\n",
        "\n",
        "# Daily sales data\n",
        "daily_sales = [220, 245, 210, 265, 230, 250, 260, 275, 240, 255,\n",
        "               235, 260, 245, 250, 225, 270, 265, 255, 250, 260]\n",
        "# Convert to array\n",
        "data = np.array(daily_sales)\n",
        "# Sample size\n",
        "n = len(data)\n",
        "\n",
        "# Sample mean and Standard deviation\n",
        "mean = np.mean(data)\n",
        "std_dev = np.std(data, ddof = 1)\n",
        "# Standard error\n",
        "se = std_dev / np.sqrt(n)\n",
        "\n",
        "# t critical value for 95% confidence and df = n-1\n",
        "t_critical = stats.t.ppf(0.975, df=n-1)\n",
        "# Margin of error\n",
        "margin_of_error = t_critical * se\n",
        "\n",
        "# Confidence interval\n",
        "ci_lower = mean - margin_of_error\n",
        "ci_upper = mean + margin_of_error\n",
        "# Print results\n",
        "print(f\"Sample Mean: {mean:.2f}\")\n",
        "print(f\"95% Confidence Interval: ({ci_lower:.2f}, {ci_upper:.2f})\")"
      ],
      "metadata": {
        "colab": {
          "base_uri": "https://localhost:8080/"
        },
        "id": "a4I5Ane_GXFC",
        "outputId": "8cb7cb32-6218-449c-c735-715f9e7b93c4"
      },
      "execution_count": 2,
      "outputs": [
        {
          "output_type": "stream",
          "name": "stdout",
          "text": [
            "Sample Mean: 248.25\n",
            "95% Confidence Interval: (240.17, 256.33)\n"
          ]
        }
      ]
    }
  ]
}